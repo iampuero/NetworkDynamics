{
 "cells": [
  {
   "cell_type": "markdown",
   "metadata": {},
   "source": [
    "# Network dynamics\n",
    "\n",
    "\n",
    "### Variable definitions\n",
    "* $N$ = Node number\n",
    "* $T$ = Simulation time in [ms]\n",
    "* $dt$ = Time step for the function in [ms]\n",
    "* $g$ = $f$ parameter\n",
    "* $\\tau$ = Characteristic Time\n",
    "* $J$ = Adjacency weighted matrix\n",
    "\n",
    "\n",
    "### AmariWilsonCowan Model\n",
    "With:\n",
    "$$f(x)=\\tanh(gx)$$\n",
    "Model expression:\n",
    "$$\\frac{dV_i}{dt} = -\\frac{V_i(t)}{\\tau} +\\sum_{j=1}^NJ_{ij}f(V_j(t))+\\epsilon \\xi_i(t)$$\n",
    "Vector form\n",
    "\\begin{equation}\n",
    "\\frac{dV_i}{dt} = -\\frac{\\textbf{V(t)}}{\\tau}+\\textbf{J}f(\\textbf{V})+\\textbf{S}(t)\n",
    "\\end{equation}\n",
    "Observable:\n",
    "$$m(t) = \\frac{1}{N}\\sum_i^N V_i$$\n",
    "\n",
    "#### System's Jacobian $(i,k)=(row, column)$ being $Fi=F(V_i(t))$ and $\\delta$ Kronecker delta:\n",
    "$$\\frac{\\partial F_i}{\\partial V_k} = -\\frac{1}{\\tau}\\frac{\\partial V_i}{\\partial V_k} + \\sum_{j=1}^N J_{ij}\\frac{\\partial f(V_j)}{V_k}$$\n",
    "$$\\frac{\\partial F_i}{\\partial V_k} = -\\frac{\\delta{ik}}{\\tau} + \\sum_{j=1}^N J_{ij} f'(V_j)\\frac{\\partial f(V_i)}{V_k}$$\n",
    "$$\\frac{\\partial F_i}{\\partial V_k} = -\\frac{\\delta{ik}}{\\tau} + \\sum_{j=1}^N J_{ij} f'(V_j)\\delta{jk}$$\n",
    "$$\\frac{\\partial F_i}{\\partial V_k} = -\\frac{\\delta{ik}}{\\tau} +J_{ik}f'(V_k)$$\n",
    "$$f'(x) = \\tanh(gx) = g(1-\\tanh^2(gx))$$\n",
    "\n",
    "Given that $J_{ii} \\forall i = 0$, the Jacobian matrix is:\n",
    "$$\\frac{\\partial F_i}{\\partial V_k} = -\\frac{\\delta{ij}}{\\tau} +J_{ik}g(1-\\tanh^2(gV_k))$$\n",
    "\n",
    "Matrix form:\n",
    "$$\\Lambda(V)_{ik} = f'(V_k)\\delta_{ik} \\rightarrow \\Lambda(V) = \\text{Diag}(g*(1-\\tanh^2(gV)))$$\n",
    "\\begin{equation}\n",
    "DF_V = \\frac{-\\textbf(I_N)}{\\tau} + J\\Lambda(V)\n",
    "\\end{equation}\n",
    "#### Prelude to susceptibility\n",
    "\n",
    "Adding a perturbation $\\xi$ of $\\omega$ frequency, to the simulation with $\\epsilon ~ 10^{-2}$\n",
    "2 Cases are needed, $V^{(*)}$ represents the potential with the $\\xi$ replaced.\n",
    "$$V^{(1)} = \\xi_i(t) = \\xi_i^{(1)}(t) = \\imath\\cos(\\omega t) \\delta_{ii_0} $$\n",
    "$$V^{(2)} = \\xi_i(t) = \\xi_i^{(2)}(t) = -\\sin(\\omega t)\\delta_{ii_0} $$\n",
    "\n",
    "#### Obtaining the Susceptibility matrix $\\chi$:\n",
    "$$\\chi_{ii_0} = \\frac{1}{\\tau\\epsilon} \\sum_{t=0}^Te^{\\imath\\omega t}[V_{i}^{(1)}(t) + \\imath V_i^{2}(t)] $$\n",
    "$$\\chi_{ii_0}(\\omega) = \\chi_{ii_0}^{(r)}(\\omega) + \\imath \\chi_{ii_0}^{(\\imath)}(\\omega) \\rightarrow |\\chi_{ii_0}(\\omega)|^2$$\n",
    "\n",
    "Expected results for a fixed $i,i_0$ and variable $\\omega$:\n",
    "* Peak of FFT of susceptibility on the $\\omega$ frequency with varying amplitude based on the node selected.\n",
    "\n",
    "Conditions:\n",
    "* Periodical system status\n",
    "\n",
    "# TODO\n",
    "### Notes\n",
    "* Use the J matrix \"J2\" for tests with the g parameter being (0.15 **P**eriodic | 0.45 **Q**uasi **P**eriodic | 0.8 **C**haotic)\n",
    "## Lyapunov\n",
    "* Find a viable code\n",
    "* Show the spectrum (3-5 coefs) as a function of g\n",
    "* Ideal plot: lyapunovs v/s g (long) and 4 attractors (columns) below each with M and fft with shared X\n",
    "## FFT\n",
    "* Compute and save the FTT for each state, with high T for better resolution (Crop at 50Hz)\n",
    "## Chi Matrix $\\chi$\n",
    "* Compute and save the $\\chi$ matrix with a finer $\\omega$ resolution to match FTT plot.\n",
    "* Compare the peaks obtained (Expected: P and QP to be same peaks and extra peaks from $\\chi$ in C)\n",
    "* Compute the matrix $C$ (Correlations between FTT's) from FTT without stimulus and compare to $\\chi$\n"
   ]
  },
  {
   "cell_type": "code",
   "execution_count": 8,
   "metadata": {},
   "outputs": [],
   "source": [
    "%matplotlib inline"
   ]
  },
  {
   "cell_type": "code",
   "execution_count": 1,
   "metadata": {},
   "outputs": [],
   "source": [
    "import ipywidgets"
   ]
  },
  {
   "cell_type": "code",
   "execution_count": 2,
   "metadata": {},
   "outputs": [],
   "source": [
    "from scipy import spatial #lattices\n",
    "import matplotlib.pyplot as plt\n",
    "from mpl_toolkits.mplot3d import Axes3D\n",
    "import numpy as np \n",
    "#import networkx as nx #initial graph\n",
    "from ipywidgets import interact,interact_manual\n",
    "import scipy\n",
    "import numba\n",
    "from numba import jit\n",
    "\n",
    "\n",
    "eps = 0.01\n",
    "pii = np.pi*2\n",
    "\n",
    "\n",
    "@numba.jit(nopython=True)\n",
    "def dFv(J,V,g,Tau):\n",
    "    return np.eye(N)*(-1/Tau)+J@np.diag(g*(1-np.tanh(g*V)**2))\n",
    "\n",
    "@numba.jit(nopython=True)\n",
    "def S1(omega,t,i0,eps):\n",
    "    out = np.zeros(N)\n",
    "    out[i0] = np.cos(omega*t*pii)*eps\n",
    "    return out\n",
    "\n",
    "@numba.jit(nopython=True)\n",
    "def S2(omega,t,i0,eps):\n",
    "    out = np.zeros(N)\n",
    "    out[i0] = np.sin(omega*t*pii)*eps\n",
    "    return out\n",
    "\n",
    "@numba.jit(nopython=True)\n",
    "def dV1(V,J,g,Tau,t,omega,i0,eps):\n",
    "    return -V/Tau + J@f1(V,g) + S1(omega,t,i0,eps)\n",
    "\n",
    "@numba.jit(nopython=True)\n",
    "def dV2(V,J,g,Tau,t,omega,i0,eps):\n",
    "    return -V/Tau + J@f1(V,g) + S2(omega,t,i0,eps)\n",
    "\n",
    "@numba.jit(nopython=True)\n",
    "def RK4V1(n,dt,y0,J,g,Tau,omega,i0,eps):\n",
    "    y = np.zeros((int(n), len(y0)), np.float64)\n",
    "    tt = 0\n",
    "    y[0] = y0\n",
    "    for i in range(int(n) - 1):\n",
    "        k1 = dV1(y[i],J,g,Tau,tt+dt*n,omega,i0,eps)\n",
    "        k2 = dV1(y[i] + k1 * dt / 2.,J,g,Tau,tt+dt*n+dt/2,omega,i0,eps)\n",
    "        k3 = dV1(y[i] + k2 * dt / 2.,J,g,Tau,tt+dt*n+dt/2,omega,i0,eps)\n",
    "        k4 = dV1(y[i] + k3 * dt,J,g,Tau,tt+dt*n+dt,omega,i0,eps)\n",
    "        y[i+1] = y[i] + (dt / 6.) * (k1 + 2*k2 + 2*k3 + k4)\n",
    "        tt+=dt\n",
    "    return y\n",
    "\n",
    "\n",
    "@numba.jit(nopython=True)\n",
    "def RK4V2(n,dt,y0,J,g,Tau,omega,i0,eps):\n",
    "    y = np.zeros((int(n), len(y0)), np.float64)\n",
    "    y[0] = y0\n",
    "    tt = 0\n",
    "    for i in range(int(n) - 1):\n",
    "        k1 = dV2(y[i],J,g,Tau,tt+dt*n,omega,i0,eps)\n",
    "        k2 = dV2(y[i] + k1 * dt / 2.,J,g,Tau,tt+dt*n+dt/2,omega,i0,eps)\n",
    "        k3 = dV2(y[i] + k2 * dt / 2.,J,g,Tau,tt+dt*n+dt/2,omega,i0,eps)\n",
    "        k4 = dV2(y[i] + k3 * dt,J,g,Tau,tt+dt*n+dt,omega,i0,eps)\n",
    "        y[i+1] = y[i] + (dt / 6.) * (k1 + 2*k2 + 2*k3 + k4)\n",
    "        tt+=dt\n",
    "    return y\n",
    "\n",
    "@numba.jit(nopython=True)\n",
    "def f1(x,g):\n",
    "    return np.tanh(g*x)\n",
    "\n",
    "\n",
    "@numba.jit(nopython=True)\n",
    "def dV(V,J,g,Tau):\n",
    "    return -V/Tau + J@f1(V,g)\n",
    "\n",
    "\n",
    "@numba.jit(nopython=True)\n",
    "def RK4(n,dt,y0,J,g,Tau):\n",
    "    y = np.zeros((int(n), len(y0)), np.float64)\n",
    "    y[0] = y0\n",
    "    for i in range(int(n) - 1):\n",
    "        k1 = dV(y[i],J,g,Tau)\n",
    "        k2 = dV(y[i] + k1 * dt / 2.,J,g,Tau)\n",
    "        k3 = dV(y[i] + k2 * dt / 2.,J,g,Tau)\n",
    "        k4 = dV(y[i] + k3 * dt,J,g,Tau)\n",
    "        y[i+1] = y[i] + (dt / 6.) * (k1 + 2*k2 + 2*k3 + k4)\n",
    "    return y\n",
    "\n",
    "\n",
    "def rungekutta4(f, y0, t, args=()):\n",
    "    n = len(t)\n",
    "    print(n,t)\n",
    "    h=t[1]-t[0]\n",
    "    y = np.zeros((n, len(y0)))\n",
    "    y[0] = y0\n",
    "    for i in range(n - 1):\n",
    "        k1 = f(y[i],*args)\n",
    "        k2 = f(y[i] + k1 * h / 2.,*args)\n",
    "        k3 = f(y[i] + k2 * h / 2.,*args)\n",
    "        k4 = f(y[i] + k3 * h,*args)\n",
    "        y[i+1] = y[i] + (h / 6.) * (k1 + 2*k2 + 2*k3 + k4)\n",
    "    return y\n",
    "\n",
    "\n",
    "@numba.jit(nopython=True)\n",
    "def chi(d1,d2,k,omega,eps):\n",
    "    t = np.arange(0,d1.shape[0]//10,0.1)\n",
    "    sin = np.sin(t*omega)\n",
    "    cos = np.cos(t*omega)\n",
    "    return (np.mean(d1[:,k]*cos-d2[:,k]*sin)/eps)**2 + (np.mean(d1[:,k]*sin-d2[:,k]*cos)/eps)**2"
   ]
  },
  {
   "cell_type": "code",
   "execution_count": 5,
   "metadata": {},
   "outputs": [],
   "source": [
    "#STARTERS\n",
    "N = 15\n",
    "V0 = np.random.random(N)\n",
    "K = 4\n",
    "JJ = 3\n",
    "\n",
    "\n",
    "#G = nx.random_regular_graph(K,N)\n",
    "#J = np.array(nx.adjacency_matrix(G).todense())*np.random.normal(0,1/N,(N,N))\n",
    "def createJ(N=15,K=4,JJ=3):\n",
    "    values = np.vstack([np.random.choice(list(set(range(N))-{n}),K,replace=False) for n in range(N)])\n",
    "    B = np.zeros((N,N))\n",
    "    for n in range(N):\n",
    "        B[n][values[n]] = 1\n",
    "    J = B*np.random.normal(0,(JJ**2)/N,(N,N))\n",
    "    return J\n",
    "J = createJ()\n",
    "#plotJ(J)"
   ]
  },
  {
   "cell_type": "code",
   "execution_count": 6,
   "metadata": {},
   "outputs": [],
   "source": [
    "J = np.load(\"J2.npy\")\n",
    "N = J.shape[0]\n",
    "V0 = np.random.random(N)"
   ]
  },
  {
   "cell_type": "code",
   "execution_count": 30,
   "metadata": {},
   "outputs": [],
   "source": [
    "T = 15000 #[ms]\n",
    "\n",
    "def simulate(dt,T,Tau,g,offset):\n",
    "    data = rungekutta4(dV,V0,np.arange(0,T,dt),(J,g,Tau))[offset:]\n",
    "    return data, np.mean(data,axis=1),data[0]\n",
    "\n",
    "def simulateNumb(dt,T,Tau,g,offset):\n",
    "    data = RK4(T//dt,dt,V0,J,g,Tau)[offset-1:]\n",
    "    return data, np.mean(data,axis=1)\n",
    "\n",
    "\n",
    "def simulateNumbV(dt,T,Tau,g,omega,i0,eps,offset):\n",
    "    #RK4V1(n,dt,y0,J,g,Tau,t,omega,i0)\n",
    "    dataV1 = RK4V1(T//dt,dt,V0,J,g,Tau,omega,i0,eps)[offset-1:]\n",
    "    dataV2 = RK4V2(T//dt,dt,V0,J,g,Tau,omega,i0,eps)[offset-1:]\n",
    "    return (dataV1,dataV2), (np.mean(dataV1,axis=1),np.mean(dataV2,axis=1))\n",
    "\n",
    "\n",
    "def plotJ(J):\n",
    "    plt.figure(figsize=(9,4))\n",
    "    plt.subplot(1,2,1)\n",
    "    plt.imshow(J)\n",
    "    plt.subplot(1,2,2)\n",
    "    plt.hist(J[np.nonzero(J)].reshape(-1))\n",
    "    plt.show()\n",
    "\n",
    "def plotActivations(data):\n",
    "    plt.imshow(data[:].T,aspect=\"auto\")\n",
    "    ticks = np.arange(0,data.shape[0],10000) #inms\n",
    "    plt.xticks(ticks,ticks/10)\n",
    "    plt.xlabel(\"[ms]\")\n",
    "    plt.ylabel(\"N\")\n",
    "    \n",
    "def plotObservable(data,lim):\n",
    "    plt.plot(np.arange(len(data[:lim]))*0.1,data[:lim])\n",
    "    plt.xlabel(\"[ms]\")\n",
    "    plt.ylabel(\"[m(Vi)]\")\n",
    "    \n",
    "\n",
    "def plot3D(data,tau=100):\n",
    "    #plt.figure(figsize=(4,4))\n",
    "    #plt.subplot(1,1,1, projection='3d')\n",
    "    plt.plot(data[:-2*tau], data[tau:-tau], data[2*tau:], color=\"red\")\n",
    "    plt.xlabel(\"m(t)\")\n",
    "    plt.ylabel(\"m(t+tau)\")\n",
    "\n",
    "\n",
    "def cutfft(m,lim=100):\n",
    "    sr = 10000 #samplerate\n",
    "    fft = np.abs(np.fft.fft(m-np.mean(m)))**2\n",
    "    freqs = np.fft.fftfreq(len(fft))*sr\n",
    "    return np.array([fft[n] for n in range(len(freqs)) if freqs[n]<lim and freqs[n]>0])\n",
    "\n",
    "def getfft(m,lim=100):\n",
    "    sr = 10000 #samplerate\n",
    "    fft = np.abs(np.fft.fft(m-np.mean(m)))**2\n",
    "    freqs = np.fft.fftfreq(len(fft))*sr\n",
    "    return freqs,fft\n",
    "\n",
    "def plotfft(m,lim=100):\n",
    "    freqs,fft = getfft(m,lim)\n",
    "    plt.plot(freqs,fft/max(fft))\n",
    "    plt.xlim(0,lim)\n",
    "    plt.xticks(range(0,lim,lim//20))\n",
    "    plt.xlabel(\"[Hz]\")\n"
   ]
  },
  {
   "cell_type": "code",
   "execution_count": 29,
   "metadata": {},
   "outputs": [
    {
     "data": {
      "application/vnd.jupyter.widget-view+json": {
       "model_id": "12f887d5bb244e91908a298d76d55fd5",
       "version_major": 2,
       "version_minor": 0
      },
      "text/plain": [
       "interactive(children=(Dropdown(description='dt', options=(0.1, 0.05, 0.001), value=0.1), FloatSlider(value=2.5…"
      ]
     },
     "metadata": {},
     "output_type": "display_data"
    }
   ],
   "source": [
    "@interact_manual(dt=[0.1,0.05,0.001],Tau=[10,5],g=(0.0,5,0.05),offset=(0,60000,10000))#g=(0.5,5,0.1)\n",
    "def wrapper(dt,g,Tau,offset,ret=0):\n",
    "    #Obtained = rungekutta4(dV,V0,np.arange(0,T,dt),(J,g,Tau))[offset:]\n",
    "    act,m = simulateNumb(dt,T,Tau,g,offset)\n",
    "    plt.figure(figsize=(20,10))\n",
    "    plt.subplot(4,1,1)\n",
    "    plotObservable(m,20000)\n",
    "    plt.subplot(4,1,2)\n",
    "    plotfft(m,50)\n",
    "    plt.show()\n",
    "    plt.subplot(1,1,1, projection='3d')\n",
    "    plot3D(m)\n",
    "    plt.show()\n",
    "    print(f\"simulate({dt},{T},{Tau},{g},{offset})\")"
   ]
  },
  {
   "cell_type": "code",
   "execution_count": 31,
   "metadata": {},
   "outputs": [
    {
     "name": "stdout",
     "output_type": "stream",
     "text": [
      "50000 [0.0000e+00 1.0000e-01 2.0000e-01 ... 4.9997e+03 4.9998e+03 4.9999e+03]\n"
     ]
    }
   ],
   "source": [
    "Obs = simulate(0.1,5000,10,5.5,4000)[0]\n"
   ]
  },
  {
   "cell_type": "code",
   "execution_count": 32,
   "metadata": {},
   "outputs": [],
   "source": [
    "def multiplot(d,m):\n",
    "    plt.figure(figsize=(6,6))\n",
    "    plt.subplot(1,1,1,projection=\"3d\")\n",
    "    plot3D(m)\n",
    "    plt.show()\n",
    "    plt.figure(figsize=(5,4))\n",
    "    for n in range(20):\n",
    "        plt.subplot(5,4,n+1,projection=\"3d\")\n",
    "        plt.title(f\"{n}\")\n",
    "        plot3D(d[:,n])\n",
    "    plt.tight_layout()"
   ]
  },
  {
   "cell_type": "code",
   "execution_count": null,
   "metadata": {},
   "outputs": [],
   "source": [
    "omegas = np.arange(0.05,0.50,0.001)\n",
    "chi_om = []\n",
    "for om in omegas:\n",
    "    chi_ik = []\n",
    "    for ii in range(5):\n",
    "        (d1,d2),(m1,m2)= simulateNumbV(0.1,15000,10,0.45,om,ii,0.01,30000)\n",
    "        chi_ik.append([chi(d1,d2,k,om,0.01) for k in range(5)])\n",
    "    chi_om.append(chi_ik)\n",
    "    print(np.round(om,2),end=\"\\t\")\n",
    "chi_om = np.array(chi_om)\n",
    "#np.save(\"Chix20x20_g0.45x5\",chi_om)"
   ]
  },
  {
   "cell_type": "code",
   "execution_count": null,
   "metadata": {},
   "outputs": [],
   "source": [
    "def subchi(om):\n",
    "    print(np.round(om,2),end=\"\\t\")\n",
    "    chi_ik = []\n",
    "    for ii in range(5):\n",
    "        (d1,d2),(m1,m2)= simulateNumbV(0.1,15000,10,0.45,om,ii,0.01,30000)\n",
    "        chi_ik.append([chi(d1,d2,k,om,0.01) for k in range(5)])\n",
    "    return chi_ik\n",
    "\n",
    "omegas = np.arange(0.05,0.50,0.0001)\n",
    "chi_om = Parallel(n_jobs=15)(delayed(subchi)(om) for om in omegas)\n",
    "chi_om = np.array(chi_om)\n",
    "np.save(\"Chi20x20_g0.45x5P\",chi_om)"
   ]
  },
  {
   "cell_type": "code",
   "execution_count": null,
   "metadata": {},
   "outputs": [],
   "source": [
    "def subchi(om):\n",
    "    print(np.round(om,2),end=\"\\t\")\n",
    "    chi_ik = []\n",
    "    for ii in range(5):\n",
    "        (d1,d2),(m1,m2)= simulateNumbV(0.1,15000,10,0.8,om,ii,0.01,30000)\n",
    "        chi_ik.append([chi(d1,d2,k,om,0.01) for k in range(5)])\n",
    "    return chi_ik\n",
    "\n",
    "omegas = np.arange(0.05,0.50,0.0001)\n",
    "chi_om = Parallel(n_jobs=15)(delayed(subchi)(om) for om in omegas)\n",
    "chi_om = np.array(chi_om)\n",
    "np.save(\"Chi20x20_g0.8x5P\",chi_om)"
   ]
  },
  {
   "cell_type": "code",
   "execution_count": 52,
   "metadata": {},
   "outputs": [
    {
     "name": "stdout",
     "output_type": "stream",
     "text": [
      "0.05\t0.05\t0.06\t0.06\t0.07\t"
     ]
    },
    {
     "ename": "KeyboardInterrupt",
     "evalue": "",
     "output_type": "error",
     "traceback": [
      "\u001b[0;31m---------------------------------------------------------------------------\u001b[0m",
      "\u001b[0;31mKeyboardInterrupt\u001b[0m                         Traceback (most recent call last)",
      "Input \u001b[0;32mIn [52]\u001b[0m, in \u001b[0;36m<cell line: 3>\u001b[0;34m()\u001b[0m\n\u001b[1;32m      5\u001b[0m chi_ik \u001b[38;5;241m=\u001b[39m []\n\u001b[1;32m      6\u001b[0m \u001b[38;5;28;01mfor\u001b[39;00m ii \u001b[38;5;129;01min\u001b[39;00m \u001b[38;5;28mrange\u001b[39m(\u001b[38;5;241m5\u001b[39m):\n\u001b[0;32m----> 7\u001b[0m     (d1,d2),(m1,m2)\u001b[38;5;241m=\u001b[39m \u001b[43msimulateNumbV\u001b[49m\u001b[43m(\u001b[49m\u001b[38;5;241;43m0.1\u001b[39;49m\u001b[43m,\u001b[49m\u001b[38;5;241;43m15000\u001b[39;49m\u001b[43m,\u001b[49m\u001b[38;5;241;43m10\u001b[39;49m\u001b[43m,\u001b[49m\u001b[38;5;241;43m0.8\u001b[39;49m\u001b[43m,\u001b[49m\u001b[43mom\u001b[49m\u001b[43m,\u001b[49m\u001b[43mii\u001b[49m\u001b[43m,\u001b[49m\u001b[38;5;241;43m0.01\u001b[39;49m\u001b[43m,\u001b[49m\u001b[38;5;241;43m30000\u001b[39;49m\u001b[43m)\u001b[49m\n\u001b[1;32m      8\u001b[0m     chi_ik\u001b[38;5;241m.\u001b[39mappend([chi(d1,d2,k,om,\u001b[38;5;241m0.01\u001b[39m) \u001b[38;5;28;01mfor\u001b[39;00m k \u001b[38;5;129;01min\u001b[39;00m \u001b[38;5;28mrange\u001b[39m(\u001b[38;5;241m5\u001b[39m)])\n\u001b[1;32m      9\u001b[0m chi_om\u001b[38;5;241m.\u001b[39mappend(chi_ik)\n",
      "Input \u001b[0;32mIn [30]\u001b[0m, in \u001b[0;36msimulateNumbV\u001b[0;34m(dt, T, Tau, g, omega, i0, eps, offset)\u001b[0m\n\u001b[1;32m     12\u001b[0m \u001b[38;5;28;01mdef\u001b[39;00m \u001b[38;5;21msimulateNumbV\u001b[39m(dt,T,Tau,g,omega,i0,eps,offset):\n\u001b[1;32m     13\u001b[0m     \u001b[38;5;66;03m#RK4V1(n,dt,y0,J,g,Tau,t,omega,i0)\u001b[39;00m\n\u001b[1;32m     14\u001b[0m     dataV1 \u001b[38;5;241m=\u001b[39m RK4V1(T\u001b[38;5;241m/\u001b[39m\u001b[38;5;241m/\u001b[39mdt,dt,V0,J,g,Tau,omega,i0,eps)[offset\u001b[38;5;241m-\u001b[39m\u001b[38;5;241m1\u001b[39m:]\n\u001b[0;32m---> 15\u001b[0m     dataV2 \u001b[38;5;241m=\u001b[39m \u001b[43mRK4V2\u001b[49m\u001b[43m(\u001b[49m\u001b[43mT\u001b[49m\u001b[38;5;241;43m/\u001b[39;49m\u001b[38;5;241;43m/\u001b[39;49m\u001b[43mdt\u001b[49m\u001b[43m,\u001b[49m\u001b[43mdt\u001b[49m\u001b[43m,\u001b[49m\u001b[43mV0\u001b[49m\u001b[43m,\u001b[49m\u001b[43mJ\u001b[49m\u001b[43m,\u001b[49m\u001b[43mg\u001b[49m\u001b[43m,\u001b[49m\u001b[43mTau\u001b[49m\u001b[43m,\u001b[49m\u001b[43momega\u001b[49m\u001b[43m,\u001b[49m\u001b[43mi0\u001b[49m\u001b[43m,\u001b[49m\u001b[43meps\u001b[49m\u001b[43m)\u001b[49m[offset\u001b[38;5;241m-\u001b[39m\u001b[38;5;241m1\u001b[39m:]\n\u001b[1;32m     16\u001b[0m     \u001b[38;5;28;01mreturn\u001b[39;00m (dataV1,dataV2), (np\u001b[38;5;241m.\u001b[39mmean(dataV1,axis\u001b[38;5;241m=\u001b[39m\u001b[38;5;241m1\u001b[39m),np\u001b[38;5;241m.\u001b[39mmean(dataV2,axis\u001b[38;5;241m=\u001b[39m\u001b[38;5;241m1\u001b[39m))\n",
      "File \u001b[0;32m~/miniconda3/envs/jupyter/lib/python3.9/site-packages/numba/core/serialize.py:29\u001b[0m, in \u001b[0;36m_numba_unpickle\u001b[0;34m(address, bytedata, hashed)\u001b[0m\n\u001b[1;32m     25\u001b[0m \u001b[38;5;66;03m# Keep unpickled object via `numba_unpickle` alive.\u001b[39;00m\n\u001b[1;32m     26\u001b[0m _unpickled_memo \u001b[38;5;241m=\u001b[39m {}\n\u001b[0;32m---> 29\u001b[0m \u001b[38;5;28;01mdef\u001b[39;00m \u001b[38;5;21m_numba_unpickle\u001b[39m(address, bytedata, hashed):\n\u001b[1;32m     30\u001b[0m     \u001b[38;5;124;03m\"\"\"Used by `numba_unpickle` from _helperlib.c\u001b[39;00m\n\u001b[1;32m     31\u001b[0m \n\u001b[1;32m     32\u001b[0m \u001b[38;5;124;03m    Parameters\u001b[39;00m\n\u001b[0;32m   (...)\u001b[0m\n\u001b[1;32m     41\u001b[0m \u001b[38;5;124;03m        unpickled object\u001b[39;00m\n\u001b[1;32m     42\u001b[0m \u001b[38;5;124;03m    \"\"\"\u001b[39;00m\n\u001b[1;32m     43\u001b[0m     key \u001b[38;5;241m=\u001b[39m (address, hashed)\n",
      "\u001b[0;31mKeyboardInterrupt\u001b[0m: "
     ]
    }
   ],
   "source": [
    "omegas = np.arange(0.05,0.50,0.01)\n",
    "chi_om = []\n",
    "for om in omegas:\n",
    "    print(np.round(om,2),end=\"\\t\")\n",
    "    chi_ik = []\n",
    "    for ii in range(5):\n",
    "        (d1,d2),(m1,m2)= simulateNumbV(0.1,15000,10,0.8,om,ii,0.01,30000)\n",
    "        chi_ik.append([chi(d1,d2,k,om,0.01) for k in range(5)])\n",
    "    chi_om.append(chi_ik)\n",
    "chi_om = np.array(chi_om)\n",
    "#np.save(\"Chi20x20_g0.8x5\",chi_om)"
   ]
  },
  {
   "cell_type": "code",
   "execution_count": 32,
   "metadata": {},
   "outputs": [],
   "source": [
    "d,m = simulateNumb(0.1,15000,10,0.15,30000)"
   ]
  },
  {
   "cell_type": "code",
   "execution_count": 9,
   "metadata": {},
   "outputs": [
    {
     "name": "stdout",
     "output_type": "stream",
     "text": [
      "2.8635923862457275\n"
     ]
    }
   ],
   "source": [
    "import time\n",
    "aa = time.time()\n",
    "simulateNumbV(0.1,15000,10,0.45,1,2,0.01,30000)\n",
    "print(time.time()-aa)"
   ]
  },
  {
   "cell_type": "code",
   "execution_count": 33,
   "metadata": {},
   "outputs": [
    {
     "data": {
      "text/plain": [
       "array([ 346.44383932,  370.03647716,  409.39455888, ..., 2202.36571064,\n",
       "       2195.40927435, 2188.67529542])"
      ]
     },
     "execution_count": 33,
     "metadata": {},
     "output_type": "execute_result"
    }
   ],
   "source": [
    "#P,QP,C = periodic, quasi periodic, chaotic"
   ]
  },
  {
   "cell_type": "code",
   "execution_count": 9,
   "metadata": {},
   "outputs": [],
   "source": [
    "d,m = simulateNumb(0.1,15000,10,0.15,30000)\n",
    "corrmatrix = np.array([[np.abs(np.dot(cutfft(d[:,j]),cutfft(-d[:,i]))) for j in range(20)] for i in range(20)])\n",
    "np.save(\"CorrmatrixfftP\",corrmatrix)\n",
    "d,m = simulateNumb(0.1,15000,10,0.45,30000)\n",
    "corrmatrix = np.array([[np.abs(np.dot(cutfft(d[:,j]),cutfft(-d[:,i]))) for j in range(20)] for i in range(20)])\n",
    "np.save(\"CorrmatrixfftQP\",corrmatrix)\n",
    "d,m = simulateNumb(0.1,15000,10,0.8,30000)\n",
    "corrmatrix = np.array([[np.abs(np.dot(cutfft(d[:,j]),cutfft(-d[:,i]))) for j in range(20)] for i in range(20)])\n",
    "np.save(\"CorrmatrixfftC\",corrmatrix)"
   ]
  },
  {
   "cell_type": "code",
   "execution_count": 44,
   "metadata": {},
   "outputs": [],
   "source": [
    "d,m = simulateNumb(0.1,15000,10,0.15,30000)\n",
    "corrmatrix = np.array([[np.corrcoef(d[:,j],d[:,i])[0,1] for j in range(20)] for i in range(20)])\n",
    "np.save(\"CorrmatrixperP\",corrmatrix)\n",
    "d,m = simulateNumb(0.1,15000,10,0.45,30000)\n",
    "corrmatrix = np.array([[np.corrcoef(d[:,j],d[:,i])[0,1] for j in range(20)] for i in range(20)])\n",
    "np.save(\"CorrmatrixperQP\",corrmatrix)\n",
    "d,m = simulateNumb(0.1,15000,10,0.8,30000)\n",
    "corrmatrix = np.array([[np.corrcoef(d[:,j],d[:,i])[0,1] for j in range(20)] for i in range(20)])\n",
    "np.save(\"CorrmatrixperC\",corrmatrix)"
   ]
  },
  {
   "cell_type": "code",
   "execution_count": 1,
   "metadata": {},
   "outputs": [
    {
     "ename": "NameError",
     "evalue": "name 'plt' is not defined",
     "output_type": "error",
     "traceback": [
      "\u001b[0;31m---------------------------------------------------------------------------\u001b[0m",
      "\u001b[0;31mNameError\u001b[0m                                 Traceback (most recent call last)",
      "\u001b[0;32m<ipython-input-1-094dc8210ba4>\u001b[0m in \u001b[0;36m<module>\u001b[0;34m\u001b[0m\n\u001b[0;32m----> 1\u001b[0;31m \u001b[0mplt\u001b[0m\u001b[0;34m.\u001b[0m\u001b[0mimshow\u001b[0m\u001b[0;34m(\u001b[0m\u001b[0mcorrmatrix\u001b[0m\u001b[0;34m)\u001b[0m\u001b[0;34m\u001b[0m\u001b[0;34m\u001b[0m\u001b[0m\n\u001b[0m\u001b[1;32m      2\u001b[0m \u001b[0mplt\u001b[0m\u001b[0;34m.\u001b[0m\u001b[0mcolorbar\u001b[0m\u001b[0;34m(\u001b[0m\u001b[0;34m)\u001b[0m\u001b[0;34m\u001b[0m\u001b[0;34m\u001b[0m\u001b[0m\n",
      "\u001b[0;31mNameError\u001b[0m: name 'plt' is not defined"
     ]
    }
   ],
   "source": [
    "plt.imshow(corrmatrix)\n",
    "plt.colorbar()"
   ]
  },
  {
   "cell_type": "code",
   "execution_count": 36,
   "metadata": {},
   "outputs": [
    {
     "data": {
      "text/plain": [
       "(20, 20, 1199)"
      ]
     },
     "execution_count": 36,
     "metadata": {},
     "output_type": "execute_result"
    }
   ],
   "source": [
    "corrmatrix.shape"
   ]
  },
  {
   "cell_type": "code",
   "execution_count": 45,
   "metadata": {},
   "outputs": [
    {
     "data": {
      "text/plain": [
       "<matplotlib.colorbar.Colorbar at 0x7f6c548ccc18>"
      ]
     },
     "execution_count": 45,
     "metadata": {},
     "output_type": "execute_result"
    },
    {
     "data": {
      "image/png": "[encoded data removed]",
      "text/plain": [
       "<Figure size 1152x360 with 6 Axes>"
      ]
     },
     "metadata": {
      "needs_background": "light"
     },
     "output_type": "display_data"
    }
   ],
   "source": [
    "plt.figure(figsize=(16,5))\n",
    "plt.subplot(1,3,1)\n",
    "plt.imshow(np.load(\"CorrmatrixperP.npy\"))\n",
    "plt.title(\"P\")\n",
    "plt.colorbar()\n",
    "plt.subplot(1,3,2)\n",
    "plt.imshow(np.load(\"CorrmatrixperQP.npy\"))\n",
    "plt.title(\"QP\")\n",
    "plt.colorbar()\n",
    "plt.subplot(1,3,3)\n",
    "plt.imshow(np.load(\"CorrmatrixperC.npy\"))\n",
    "plt.title(\"C\")\n",
    "plt.colorbar()"
   ]
  },
  {
   "cell_type": "code",
   "execution_count": 134,
   "metadata": {},
   "outputs": [
    {
     "data": {
      "application/vnd.jupyter.widget-view+json": {
       "model_id": "eaf1528e57d547ed8c6d22cc99205197",
       "version_major": 2,
       "version_minor": 0
      },
      "text/plain": [
       "interactive(children=(IntSlider(value=45, description='om', max=90), Output()), _dom_classes=('widget-interact…"
      ]
     },
     "metadata": {},
     "output_type": "display_data"
    }
   ],
   "source": [
    "@interact(om = (0,90,1))\n",
    "def show(om):\n",
    "    #same colormap-range for every omega\n",
    "    #\n",
    "    plt.imshow(chi_om[om])\n",
    "    plt.show()"
   ]
  },
  {
   "cell_type": "code",
   "execution_count": 27,
   "metadata": {},
   "outputs": [],
   "source": [
    "np.save(\"Chi90x20x20\",chi_om)\n"
   ]
  },
  {
   "cell_type": "code",
   "execution_count": 54,
   "metadata": {},
   "outputs": [],
   "source": [
    "gg = 0.8\n",
    "d,m = simulateNumb(0.1,15000,10,gg,30000)\n",
    "chi_om =np.load(\"Chi/Chi20x20_g{}x5.npy\".format(gg))\n",
    "chi_om_qp =np.load(\"Chi/Chi20x20_g0.45x5.npy\".format(gg))"
   ]
  },
  {
   "cell_type": "code",
   "execution_count": 56,
   "metadata": {},
   "outputs": [
    {
     "data": {
      "application/vnd.jupyter.widget-view+json": {
       "model_id": "4318b6339e2d4a8eb5ab3e5492eb8bed",
       "version_major": 2,
       "version_minor": 0
      },
      "text/plain": [
       "interactive(children=(Dropdown(description='ii', options=(0, 1, 2, 3, 4), value=0), Dropdown(description='i0',…"
      ]
     },
     "metadata": {},
     "output_type": "display_data"
    }
   ],
   "source": [
    "@interact_manual(ii=range(5),i0=range(5),rang=ipywidgets.IntRangeSlider(min=8,max=48,step=1,value=[8,48]))\n",
    "def compareChiFFT(ii,i0,rang):\n",
    "    plt.figure(figsize=(13,4))\n",
    "    plt.subplot(1,1,1)\n",
    "    plt.title(f\"{ii} {i0}\")\n",
    "    plotfft(m,50)\n",
    "    plt.plot(1000*(omegas/pii),chi_om[:,ii,i0]/np.max(chi_om[:,ii,i0]),linewidth=3)\n",
    "    #plt.plot(1000*(omegas/pii),chi_om_qp[:,ii,i0]/np.max(chi_om_qp[:,ii,i0]),linewidth=3)\n",
    "    plt.xlim(rang[0],rang[1])\n",
    "    plt.xlabel(\"$\\\\omega$\")\n",
    "    #plt.ylabel(\"$\\\\chi$\")\n",
    "    plt.tight_layout()"
   ]
  },
  {
   "cell_type": "code",
   "execution_count": 62,
   "metadata": {},
   "outputs": [
    {
     "data": {
      "text/plain": [
       "4500"
      ]
     },
     "execution_count": 62,
     "metadata": {},
     "output_type": "execute_result"
    }
   ],
   "source": [
    "len(np.arange(0.05,0.5,0.0001))"
   ]
  },
  {
   "cell_type": "code",
   "execution_count": 61,
   "metadata": {},
   "outputs": [
    {
     "data": {
      "text/plain": [
       "120000"
      ]
     },
     "execution_count": 61,
     "metadata": {},
     "output_type": "execute_result"
    }
   ],
   "source": [
    "len(m)"
   ]
  },
  {
   "cell_type": "code",
   "execution_count": 44,
   "metadata": {},
   "outputs": [],
   "source": [
    "#J2 con 0.15  =  Periodic ~ 0.45 = quasi periodic ~ 0.8 = chaotic\n",
    "#J3 con 1.45 estable\n",
    "i0 = 2\n",
    "i = 3\n",
    "eps = 0.01\n",
    "omega = 5\n",
    "\n"
   ]
  },
  {
   "cell_type": "code",
   "execution_count": 250,
   "metadata": {},
   "outputs": [],
   "source": [
    "d,m = simulateNumb(0.1,15000,10,0.15,30000)"
   ]
  },
  {
   "cell_type": "code",
   "execution_count": 45,
   "metadata": {},
   "outputs": [
    {
     "data": {
      "image/png": "[encoded data removed]",
      "text/plain": [
       "<Figure size 1440x360 with 1 Axes>"
      ]
     },
     "metadata": {
      "needs_background": "light"
     },
     "output_type": "display_data"
    }
   ],
   "source": [
    "i0=2\n",
    "om = 0.01\n",
    "eps = 0.01\n",
    "(d1,d2),(m1,m2)= simulateNumbV(0.1,15000,10,0.15,om,2,eps,30000)\n",
    "plt.figure(figsize=(20,5))\n",
    "plt.plot(np.array([S2(omega,t,i0,eps) for t in np.arange(0,2000,0.1)])[:,i0])\n",
    "plt.plot(np.array([S1(omega,t,i0,eps) for t in np.arange(0,2000,0.1)])[:,i0])\n",
    "plt.plot(d1[:20000,2])\n",
    "plt.plot(d2[:20000,2])\n",
    "plt.show()"
   ]
  },
  {
   "cell_type": "code",
   "execution_count": 16,
   "metadata": {},
   "outputs": [],
   "source": [
    "from joblib import Parallel, delayed\n",
    "from time import time"
   ]
  },
  {
   "cell_type": "code",
   "execution_count": 40,
   "metadata": {},
   "outputs": [],
   "source": [
    "def function(x):\n",
    "    for n in range(1000000):\n",
    "        value = np.random.random()\n",
    "    print(value)\n",
    "    return value+x\n",
    "#Parallel(n_jobs=2)(delayed(function)(i) for i in range(10))"
   ]
  },
  {
   "cell_type": "code",
   "execution_count": 36,
   "metadata": {},
   "outputs": [
    {
     "name": "stdout",
     "output_type": "stream",
     "text": [
      "0.7436292499026619\n",
      "0.4445664724992895\n",
      "0.7377465471353019\n",
      "0.08622946404328868\n",
      "0.05979781896575864\n",
      "0.737235630989466\n",
      "0.3664829394952187\n",
      "0.3553298495166748\n",
      "0.6076662876242184\n",
      "0.3745396751243688\n",
      "0.9134911305107817\n",
      "0.4223662753432669\n",
      "0.15245606346577334\n",
      "0.4324897885516322\n"
     ]
    },
    {
     "ename": "KeyboardInterrupt",
     "evalue": "",
     "output_type": "error",
     "traceback": [
      "\u001b[0;31m---------------------------------------------------------------------------\u001b[0m",
      "\u001b[0;31mKeyboardInterrupt\u001b[0m                         Traceback (most recent call last)",
      "Input \u001b[0;32mIn [36]\u001b[0m, in \u001b[0;36m<cell line: 2>\u001b[0;34m()\u001b[0m\n\u001b[1;32m      1\u001b[0m a \u001b[38;5;241m=\u001b[39m time()\n\u001b[0;32m----> 2\u001b[0m \u001b[38;5;28;43mlist\u001b[39;49m\u001b[43m(\u001b[49m\u001b[38;5;28;43mmap\u001b[39;49m\u001b[43m(\u001b[49m\u001b[43mfunction\u001b[49m\u001b[43m,\u001b[49m\u001b[38;5;28;43mrange\u001b[39;49m\u001b[43m(\u001b[49m\u001b[38;5;241;43m100\u001b[39;49m\u001b[43m)\u001b[49m\u001b[43m)\u001b[49m\u001b[43m)\u001b[49m\n\u001b[1;32m      3\u001b[0m \u001b[38;5;28mprint\u001b[39m(time()\u001b[38;5;241m-\u001b[39ma)\n",
      "Input \u001b[0;32mIn [35]\u001b[0m, in \u001b[0;36mfunction\u001b[0;34m(x)\u001b[0m\n\u001b[1;32m      1\u001b[0m \u001b[38;5;28;01mdef\u001b[39;00m \u001b[38;5;21mfunction\u001b[39m(x):\n\u001b[1;32m      2\u001b[0m     \u001b[38;5;28;01mfor\u001b[39;00m n \u001b[38;5;129;01min\u001b[39;00m \u001b[38;5;28mrange\u001b[39m(\u001b[38;5;241m1000000\u001b[39m):\n\u001b[0;32m----> 3\u001b[0m         value \u001b[38;5;241m=\u001b[39m \u001b[43mnp\u001b[49m\u001b[38;5;241;43m.\u001b[39;49m\u001b[43mrandom\u001b[49m\u001b[38;5;241m.\u001b[39mrandom()\n\u001b[1;32m      4\u001b[0m     \u001b[38;5;28mprint\u001b[39m(value)\n\u001b[1;32m      5\u001b[0m     \u001b[38;5;28;01mreturn\u001b[39;00m value\n",
      "\u001b[0;31mKeyboardInterrupt\u001b[0m: "
     ]
    }
   ],
   "source": [
    "a = time()\n",
    "list(map(function,range(100)))\n",
    "print(time()-a)"
   ]
  },
  {
   "cell_type": "code",
   "execution_count": 41,
   "metadata": {},
   "outputs": [
    {
     "name": "stdout",
     "output_type": "stream",
     "text": [
      "3.1362528800964355\n"
     ]
    }
   ],
   "source": [
    "a = time()\n",
    "oup = Parallel(n_jobs=30)(delayed(function)(i) for i in range(100))\n",
    "print(time()-a)"
   ]
  },
  {
   "cell_type": "code",
   "execution_count": 42,
   "metadata": {},
   "outputs": [
    {
     "data": {
      "text/plain": [
       "[0.41544916171108537,\n",
       " 1.0975329133182554,\n",
       " 2.5663563341892877,\n",
       " 3.100300695623454,\n",
       " 4.6140929832186846,\n",
       " 5.070543719052902,\n",
       " 6.937131509147802,\n",
       " 7.1320915925351835,\n",
       " 8.955680588285475,\n",
       " 9.799451338413967,\n",
       " 10.838362470533347,\n",
       " 11.354969308266664,\n",
       " 12.581867233935208,\n",
       " 13.825156420456803,\n",
       " 14.43822667694886,\n",
       " 15.439347789978452,\n",
       " 16.518735892658743,\n",
       " 17.850656357675497,\n",
       " 18.674002562083494,\n",
       " 19.20881791056845,\n",
       " 20.535250263977407,\n",
       " 21.78703143995729,\n",
       " 22.793058504929355,\n",
       " 23.982173440398356,\n",
       " 24.889597361445766,\n",
       " 25.609063213968675,\n",
       " 26.519202804157487,\n",
       " 27.959626993184127,\n",
       " 28.710559643059742,\n",
       " 29.857794605930163,\n",
       " 30.536823728631177,\n",
       " 31.740233670115977,\n",
       " 32.05727131255807,\n",
       " 33.32274246214428,\n",
       " 34.55625238119288,\n",
       " 35.204296483083105,\n",
       " 36.364486904949395,\n",
       " 37.43614483349189,\n",
       " 38.6293088704165,\n",
       " 39.39270851709992,\n",
       " 40.53972407097244,\n",
       " 41.785337837144155,\n",
       " 42.636198652363646,\n",
       " 43.12204672247926,\n",
       " 44.1019748687319,\n",
       " 45.27314243779753,\n",
       " 46.177795298492356,\n",
       " 47.007254416655954,\n",
       " 48.828587359031964,\n",
       " 49.568698809174634,\n",
       " 50.21292832745273,\n",
       " 51.38645491974896,\n",
       " 52.395519208137586,\n",
       " 53.465540766050886,\n",
       " 54.71948465290291,\n",
       " 55.026272083438535,\n",
       " 56.95072882644667,\n",
       " 57.685276568852665,\n",
       " 58.592389117983316,\n",
       " 59.90067355235522,\n",
       " 60.00603478384709,\n",
       " 61.24440024394644,\n",
       " 62.739023173450434,\n",
       " 63.63249059231725,\n",
       " 64.15816541068732,\n",
       " 65.85551724218821,\n",
       " 66.33939188687475,\n",
       " 67.00164073747594,\n",
       " 68.18868749449065,\n",
       " 69.41988160692253,\n",
       " 70.63995674935714,\n",
       " 71.40791138632757,\n",
       " 72.13033513277982,\n",
       " 73.43924470302153,\n",
       " 74.86788260073368,\n",
       " 75.16914469171923,\n",
       " 76.49229340904576,\n",
       " 77.52729132506994,\n",
       " 78.56015437593516,\n",
       " 79.4265008807606,\n",
       " 80.05270267218097,\n",
       " 81.47337134077338,\n",
       " 82.93516467887866,\n",
       " 83.93734052477556,\n",
       " 84.67745836198506,\n",
       " 85.43241449524064,\n",
       " 86.91339876749934,\n",
       " 87.88397691427163,\n",
       " 88.84369992114782,\n",
       " 89.11464277928835,\n",
       " 90.35065003865509,\n",
       " 91.57689650806559,\n",
       " 92.02026605315686,\n",
       " 93.41702109276271,\n",
       " 94.8246001414119,\n",
       " 95.88512042126588,\n",
       " 96.29292113053589,\n",
       " 97.02146098177757,\n",
       " 98.53969134089583,\n",
       " 99.47333393412408]"
      ]
     },
     "execution_count": 42,
     "metadata": {},
     "output_type": "execute_result"
    }
   ],
   "source": [
    "oup"
   ]
  },
  {
   "cell_type": "code",
   "execution_count": null,
   "metadata": {},
   "outputs": [],
   "source": []
  }
 ],
 "metadata": {
  "kernelspec": {
   "display_name": "Python 3",
   "language": "python",
   "name": "python3"
  },
  "language_info": {
   "codemirror_mode": {
    "name": "ipython",
    "version": 3
   },
   "file_extension": ".py",
   "mimetype": "text/x-python",
   "name": "python",
   "nbconvert_exporter": "python",
   "pygments_lexer": "ipython3",
   "version": "3.6.7"
  }
 },
 "nbformat": 4,
 "nbformat_minor": 4
}
